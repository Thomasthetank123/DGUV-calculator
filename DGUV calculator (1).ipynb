{
 "cells": [
  {
   "cell_type": "markdown",
   "id": "49a3b98b-bcab-4350-a07c-78590ad89cbf",
   "metadata": {},
   "source": [
    "DGUV ArcFlash calculator\n",
    "How to use:\n",
    "1) Run the calculator by pressing shift and enter\n",
    "2) Add value to the box and hit enter\n",
    "\n",
    "Note: To make sure programme is running correctly\n",
    "      enter the values in brackets to the right\n",
    "      of each cell. Output should be an array with:\n",
    "      ['Fatal injury', 'irreversible injury']\n"
   ]
  },
  {
   "cell_type": "code",
   "execution_count": 58,
   "id": "09d0e5b5-9c62-4051-98c3-8570ec6c7de0",
   "metadata": {
    "tags": []
   },
   "outputs": [
    {
     "name": "stdin",
     "output_type": "stream",
     "text": [
      "Enter Ratio of resistance and reactance: 0.39\n",
      "Enter fault current in kA: 0.5\n",
      "Enter System nominal voltage in kV: 27.5\n",
      "Enter operation time of protection in ms: 65\n"
     ]
    },
    {
     "data": {
      "text/plain": [
       "['Reversible injury', 'Slight injury']"
      ]
     },
     "execution_count": 58,
     "metadata": {},
     "output_type": "execute_result"
    }
   ],
   "source": [
    "RX_ratio = float(input('Enter Ratio of resistance and reactance:'))  # r/x (0.39)\n",
    "\n",
    "If = float(input('Enter fault current in kA:'))  # Maximum fault current kA (4.95)\n",
    "\n",
    "Un = float(input('Enter System nominal voltage in kV:'))  # System nominal voltage kV (27.5)\n",
    "\n",
    "tk = float(input('Enter operation time of protection in ms:'))  # Disconnection time for switchgear ms (65)\n",
    "\n",
    "Kt = [1.0, 1.5, 1.9, 2.4]  # Transmission coefficient, lower number=less space\n",
    "\n",
    "\n",
    "def DGUV(RX_ratio, If, Un, tk, Kt):\n",
    "\n",
    "    Dwork = 300  # Typical working distance mm\n",
    "\n",
    "    kpmax = 0.29/(RX_ratio**0.17)  # MAX Normalised arc power\n",
    "\n",
    "    Warc = kpmax * Un * If * tk\n",
    "\n",
    "    Warc_test = [168, 320]  # Arc protection class 1 and 2 respectively\n",
    "\n",
    "    Warc_prot_1 = Kt[0] * (Dwork/300)**2*Warc_test[0]\n",
    "    Warc_prot_2 = Kt[0] * (Dwork/300)**2*Warc_test[1]\n",
    "\n",
    "    Warc_prot = [Warc_prot_1, Warc_prot_2]\n",
    "\n",
    "    Arc_prot_1_ratio = Warc/Warc_prot[0]\n",
    "    Arc_prot_2_ratio = Warc/Warc_prot[1]\n",
    "\n",
    "    arc_prot_ratio = [Arc_prot_1_ratio, Arc_prot_2_ratio]\n",
    "\n",
    "    Severity = ['Slight injury',\n",
    "                'Reversible injury',\n",
    "                'irreversible injury',\n",
    "                'Fatal injury']\n",
    "    outcome = [' ', ' ']\n",
    "\n",
    "    for i in range(2):\n",
    "        if arc_prot_ratio[i] <= 1:\n",
    "            outcome[i] = Severity[0]\n",
    "        elif (arc_prot_ratio[i] > 1) & (arc_prot_ratio[i] <= 3):\n",
    "            outcome[i] = Severity[1]\n",
    "        elif (arc_prot_ratio[i] > 3) & (arc_prot_ratio[i] < 10):\n",
    "            outcome[i] = Severity[2]\n",
    "        else:\n",
    "            outcome[i] = Severity[3]\n",
    "\n",
    "    return outcome\n",
    "\n",
    "\n",
    "a = DGUV(RX_ratio, If, Un, tk, Kt)\n",
    "a"
   ]
  },
  {
   "cell_type": "code",
   "execution_count": null,
   "id": "b0498c80-ec6a-4605-a7c0-9e4e77adb8f4",
   "metadata": {},
   "outputs": [],
   "source": []
  },
  {
   "cell_type": "code",
   "execution_count": null,
   "id": "01422679-39c0-4096-94eb-fb45f4a53105",
   "metadata": {},
   "outputs": [],
   "source": []
  },
  {
   "cell_type": "code",
   "execution_count": null,
   "id": "64f6708a-db37-4d56-9c8c-a22500708b3f",
   "metadata": {},
   "outputs": [],
   "source": []
  },
  {
   "cell_type": "code",
   "execution_count": null,
   "id": "3b870601-088d-4277-927f-855bd027a5bb",
   "metadata": {},
   "outputs": [],
   "source": []
  },
  {
   "cell_type": "code",
   "execution_count": null,
   "id": "0c0a3e72-fd38-40f2-923e-c387db5726de",
   "metadata": {},
   "outputs": [],
   "source": []
  }
 ],
 "metadata": {
  "kernelspec": {
   "display_name": "Python 3 (ipykernel)",
   "language": "python",
   "name": "python3"
  },
  "language_info": {
   "codemirror_mode": {
    "name": "ipython",
    "version": 3
   },
   "file_extension": ".py",
   "mimetype": "text/x-python",
   "name": "python",
   "nbconvert_exporter": "python",
   "pygments_lexer": "ipython3",
   "version": "3.10.9"
  }
 },
 "nbformat": 4,
 "nbformat_minor": 5
}
